{
 "cells": [
  {
   "cell_type": "markdown",
   "id": "f2d8a620",
   "metadata": {},
   "source": [
    "# Задачи\n",
    "1. Выделите из колонки attributes значение атрибута Parent. Т.е. если там записано Parent=x, то нам нужен x\n",
    "2. Выясните, какое из этих значений является самым частым\n",
    "3. Постройте распределение встречаемости значений в столбце type"
   ]
  },
  {
   "cell_type": "markdown",
   "id": "0517ee86",
   "metadata": {},
   "source": [
    "**Какое значение атрибута Parent самое частое?**"
   ]
  },
  {
   "cell_type": "code",
   "execution_count": 3,
   "id": "e5f3912f",
   "metadata": {},
   "outputs": [],
   "source": [
    "import pandas as pd\n",
    "import re\n",
    "import seaborn as sns\n",
    "import matplotlib.pyplot as plt\n",
    "\n",
    "%matplotlib inline"
   ]
  },
  {
   "cell_type": "code",
   "execution_count": 4,
   "id": "6c4c1443",
   "metadata": {},
   "outputs": [
    {
     "data": {
      "text/html": [
       "<div>\n",
       "<style scoped>\n",
       "    .dataframe tbody tr th:only-of-type {\n",
       "        vertical-align: middle;\n",
       "    }\n",
       "\n",
       "    .dataframe tbody tr th {\n",
       "        vertical-align: top;\n",
       "    }\n",
       "\n",
       "    .dataframe thead th {\n",
       "        text-align: right;\n",
       "    }\n",
       "</style>\n",
       "<table border=\"1\" class=\"dataframe\">\n",
       "  <thead>\n",
       "    <tr style=\"text-align: right;\">\n",
       "      <th></th>\n",
       "      <th>seq_id</th>\n",
       "      <th>source</th>\n",
       "      <th>type</th>\n",
       "      <th>start</th>\n",
       "      <th>end</th>\n",
       "      <th>score</th>\n",
       "      <th>strand</th>\n",
       "      <th>phase</th>\n",
       "      <th>attributes</th>\n",
       "    </tr>\n",
       "  </thead>\n",
       "  <tbody>\n",
       "    <tr>\n",
       "      <th>0</th>\n",
       "      <td>chr17</td>\n",
       "      <td>RefSeq</td>\n",
       "      <td>exon</td>\n",
       "      <td>6811330</td>\n",
       "      <td>6811453</td>\n",
       "      <td>.</td>\n",
       "      <td>+</td>\n",
       "      <td>.</td>\n",
       "      <td>Parent=XM_001475631.1</td>\n",
       "    </tr>\n",
       "    <tr>\n",
       "      <th>1</th>\n",
       "      <td>chr17</td>\n",
       "      <td>RefSeq</td>\n",
       "      <td>CDS</td>\n",
       "      <td>6808204</td>\n",
       "      <td>6808245</td>\n",
       "      <td>.</td>\n",
       "      <td>+</td>\n",
       "      <td>0</td>\n",
       "      <td>Name=CDS:NC_000083.5:LOC100040603;Parent=XM_00...</td>\n",
       "    </tr>\n",
       "    <tr>\n",
       "      <th>2</th>\n",
       "      <td>chr17</td>\n",
       "      <td>RefSeq</td>\n",
       "      <td>CDS</td>\n",
       "      <td>6811792</td>\n",
       "      <td>6811869</td>\n",
       "      <td>.</td>\n",
       "      <td>+</td>\n",
       "      <td>2</td>\n",
       "      <td>Name=CDS:NC_000083.5:LOC100040603;Parent=XM_00...</td>\n",
       "    </tr>\n",
       "    <tr>\n",
       "      <th>3</th>\n",
       "      <td>chr17</td>\n",
       "      <td>RefSeq</td>\n",
       "      <td>exon</td>\n",
       "      <td>6806513</td>\n",
       "      <td>6806553</td>\n",
       "      <td>.</td>\n",
       "      <td>+</td>\n",
       "      <td>.</td>\n",
       "      <td>Parent=XM_001475631.1</td>\n",
       "    </tr>\n",
       "    <tr>\n",
       "      <th>4</th>\n",
       "      <td>chr17</td>\n",
       "      <td>RefSeq</td>\n",
       "      <td>five_prime_UTR</td>\n",
       "      <td>6806513</td>\n",
       "      <td>6806526</td>\n",
       "      <td>.</td>\n",
       "      <td>+</td>\n",
       "      <td>.</td>\n",
       "      <td>Parent=XM_001475631.1</td>\n",
       "    </tr>\n",
       "  </tbody>\n",
       "</table>\n",
       "</div>"
      ],
      "text/plain": [
       "  seq_id  source            type    start      end score strand phase  \\\n",
       "0  chr17  RefSeq            exon  6811330  6811453     .      +     .   \n",
       "1  chr17  RefSeq             CDS  6808204  6808245     .      +     0   \n",
       "2  chr17  RefSeq             CDS  6811792  6811869     .      +     2   \n",
       "3  chr17  RefSeq            exon  6806513  6806553     .      +     .   \n",
       "4  chr17  RefSeq  five_prime_UTR  6806513  6806526     .      +     .   \n",
       "\n",
       "                                          attributes  \n",
       "0                              Parent=XM_001475631.1  \n",
       "1  Name=CDS:NC_000083.5:LOC100040603;Parent=XM_00...  \n",
       "2  Name=CDS:NC_000083.5:LOC100040603;Parent=XM_00...  \n",
       "3                              Parent=XM_001475631.1  \n",
       "4                              Parent=XM_001475631.1  "
      ]
     },
     "execution_count": 4,
     "metadata": {},
     "output_type": "execute_result"
    }
   ],
   "source": [
    "gff = pd.read_csv('/Users/pavel/Downloads/gff.tsv', sep='\\t')\n",
    "gff.head()"
   ]
  },
  {
   "cell_type": "code",
   "execution_count": 6,
   "id": "f6aaee8a",
   "metadata": {},
   "outputs": [
    {
     "data": {
      "text/html": [
       "<div>\n",
       "<style scoped>\n",
       "    .dataframe tbody tr th:only-of-type {\n",
       "        vertical-align: middle;\n",
       "    }\n",
       "\n",
       "    .dataframe tbody tr th {\n",
       "        vertical-align: top;\n",
       "    }\n",
       "\n",
       "    .dataframe thead th {\n",
       "        text-align: right;\n",
       "    }\n",
       "</style>\n",
       "<table border=\"1\" class=\"dataframe\">\n",
       "  <thead>\n",
       "    <tr style=\"text-align: right;\">\n",
       "      <th></th>\n",
       "      <th>parent</th>\n",
       "    </tr>\n",
       "  </thead>\n",
       "  <tbody>\n",
       "    <tr>\n",
       "      <th>0</th>\n",
       "      <td>XM_001475631.1</td>\n",
       "    </tr>\n",
       "    <tr>\n",
       "      <th>1</th>\n",
       "      <td>XM_001475631.1</td>\n",
       "    </tr>\n",
       "    <tr>\n",
       "      <th>2</th>\n",
       "      <td>XM_001475631.1</td>\n",
       "    </tr>\n",
       "    <tr>\n",
       "      <th>3</th>\n",
       "      <td>XM_001475631.1</td>\n",
       "    </tr>\n",
       "    <tr>\n",
       "      <th>4</th>\n",
       "      <td>XM_001475631.1</td>\n",
       "    </tr>\n",
       "  </tbody>\n",
       "</table>\n",
       "</div>"
      ],
      "text/plain": [
       "           parent\n",
       "0  XM_001475631.1\n",
       "1  XM_001475631.1\n",
       "2  XM_001475631.1\n",
       "3  XM_001475631.1\n",
       "4  XM_001475631.1"
      ]
     },
     "execution_count": 6,
     "metadata": {},
     "output_type": "execute_result"
    }
   ],
   "source": [
    "pattern = r'Parent=(?P<parent>[\\w\\.]+)'\n",
    "parent = gff.attributes.str.extract(pattern)\n",
    "parent.head()"
   ]
  },
  {
   "cell_type": "code",
   "execution_count": 7,
   "id": "7cb4d8b2",
   "metadata": {},
   "outputs": [
    {
     "data": {
      "text/plain": [
       "parent        \n",
       "XM_001475631.1    479\n",
       "NC_000083.5        33\n",
       "Name: count, dtype: int64"
      ]
     },
     "execution_count": 7,
     "metadata": {},
     "output_type": "execute_result"
    }
   ],
   "source": [
    "parent.value_counts()"
   ]
  },
  {
   "cell_type": "markdown",
   "id": "bd7987ee",
   "metadata": {},
   "source": [
    "Ответ: XM_001475631.1"
   ]
  },
  {
   "cell_type": "markdown",
   "id": "9a790b56",
   "metadata": {},
   "source": [
    "**Какое самое частое значение в колонке type?**"
   ]
  },
  {
   "cell_type": "code",
   "execution_count": 8,
   "id": "e8db0617",
   "metadata": {},
   "outputs": [
    {
     "data": {
      "text/plain": [
       "type\n",
       "exon               201\n",
       "CDS                170\n",
       "five_prime_UTR      47\n",
       "mRNA                33\n",
       "three_prime_UTR     32\n",
       "protein             29\n",
       "Name: count, dtype: int64"
      ]
     },
     "execution_count": 8,
     "metadata": {},
     "output_type": "execute_result"
    }
   ],
   "source": [
    "gff.type.value_counts()"
   ]
  },
  {
   "cell_type": "markdown",
   "id": "671ca0fe",
   "metadata": {},
   "source": [
    "* **exon**"
   ]
  },
  {
   "cell_type": "markdown",
   "id": "36a1c589",
   "metadata": {},
   "source": [
    "**Постром распределение встречаемости значений в столбце type**"
   ]
  },
  {
   "cell_type": "code",
   "execution_count": 10,
   "id": "3b4c6e82",
   "metadata": {},
   "outputs": [
    {
     "data": {
      "text/plain": [
       "<Axes: xlabel='type', ylabel='count'>"
      ]
     },
     "execution_count": 10,
     "metadata": {},
     "output_type": "execute_result"
    },
    {
     "data": {
      "image/png": "[encoded data removed]",
      "text/plain": [
       "<Figure size 640x480 with 1 Axes>"
      ]
     },
     "metadata": {},
     "output_type": "display_data"
    }
   ],
   "source": [
    "sns.countplot(x = gff.type)"
   ]
  },
  {
   "cell_type": "code",
   "execution_count": null,
   "id": "d480b9ed",
   "metadata": {},
   "outputs": [],
   "source": []
  }
 ],
 "metadata": {
  "kernelspec": {
   "display_name": "Python 3 (ipykernel)",
   "language": "python",
   "name": "python3"
  },
  "language_info": {
   "codemirror_mode": {
    "name": "ipython",
    "version": 3
   },
   "file_extension": ".py",
   "mimetype": "text/x-python",
   "name": "python",
   "nbconvert_exporter": "python",
   "pygments_lexer": "ipython3",
   "version": "3.11.4"
  }
 },
 "nbformat": 4,
 "nbformat_minor": 5
}
