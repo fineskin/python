{
 "cells": [
  {
   "cell_type": "markdown",
   "id": "ccfe4dbd",
   "metadata": {},
   "source": [
    "# Описание\n",
    "\n",
    "На этот раз данные имеют следующую структуру:\n",
    "\n",
    "* записываются для каждого пользователя, совершившего покупки, каждый день\n",
    "* для каждой даты есть своя папка, внутри неё – папки для каждого пользователя\n",
    "* внутри каждой папки есть файл data.csv, где и хранятся данные\n",
    "\n",
    "Схематично выглядит так:\n",
    "```\n",
    "└── data\n",
    "   ├── 2020-12-30   \n",
    "   │  ├── FirstName_LastName1   \n",
    "   │  │   └── data.csv  \n",
    "   │  ├── FirstName_LastName2   \n",
    "   │  │   └── data.csv  \n",
    "   │  └── FirstName_LastName3   \n",
    "   │      └── data.csv   \n",
    "   └── 2020-12-31   \n",
    "      ├── FirstName_LastName1      \n",
    "      │   └── data.csv      \n",
    "      └── FirstName_LastName5      \n",
    "          └── data.csv\n",
    "```      \n",
    "Например, 30 декабря три покупателя сделали покупки, 31 – два \n",
    "(папки 2020-12-30 и 2020-12-31 соответственно). Поскольку клиент FirstName_LastName1 купил товары в оба дня, для него имеется папка в папке для каждой из дат. Для других клиентов – по одной.\n",
    "\n",
    "**Note: данные в задании покрывают другой временной период, имена тоже другие. Подробности, примеры и возможные подсказки можно найти в текстах следующих шагов.**\n",
    "\n",
    "      \n",
    "\n",
    "## Задачи\n",
    "1. Соберите все данные из папки data в один датафрэйм, имеющий следующие столбцы: колонки из самих файлов (product_id, quantity), а также имя пользователя (name), и дата этих покупок (date), соответствует названию папки, где лежит папка с пользователем)\n",
    "2. Выясните, какой пользователь купил больше всего товаров. Если их несколько, то перечислите имена через запятую с пробелом и в алфавитном порядке.\n",
    "3. Найдите топ-10 товаров по числу проданных единиц за всё время и постройте барплот. Сколько было продано единиц товара с product_id==56?\n",
    "4. Визуализируйте продажи по дням.\n",
    "5. Сколько пользователей приобрели какой-либо товар повторно (более 1 раза)? Повтором будем считать покупку товара с одинаковым product_id, совершенную в разные дни. "
   ]
  },
  {
   "cell_type": "markdown",
   "id": "d34c3dca",
   "metadata": {},
   "source": [
    "**Соберем все данные из папки data в один датафрэйм, имеющий следующие столбцы: колонки из самих файлов (product_id, quantity), имя пользователя (name), и дату этих покупок (date), соответствует названию папки, где лежит папка с пользователем).**"
   ]
  },
  {
   "cell_type": "code",
   "execution_count": 126,
   "id": "d669ab68",
   "metadata": {},
   "outputs": [],
   "source": [
    "import pandas as pd\n",
    "import pandas as pd\n",
    "import numpy as np\n",
    "import matplotlib.pyplot as plt\n",
    "import seaborn as sns\n",
    "import os\n",
    "import warnings\n",
    "warnings.filterwarnings(\"ignore\")\n",
    "\n",
    "%matplotlib inline"
   ]
  },
  {
   "cell_type": "code",
   "execution_count": 103,
   "id": "98168dee",
   "metadata": {},
   "outputs": [
    {
     "data": {
      "text/plain": [
       "['data/2020-12-06/Vasiliy_Fedorov/data.csv',\n",
       " 'data/2020-12-08/Alexey_Fedorov/data.csv',\n",
       " 'data/2020-12-08/Anton_Smirnov/data.csv',\n",
       " 'data/2020-12-08/Kirill_Smirnov/data.csv',\n",
       " 'data/2020-12-08/Rostislav_Petrov/data.csv',\n",
       " 'data/2020-12-08/Petr_Petrov/data.csv',\n",
       " 'data/2020-12-09/Anton_Ivanov/data.csv',\n",
       " 'data/2020-12-09/Anton_Smirnov/data.csv',\n",
       " 'data/2020-12-09/Rostislav_Petrov/data.csv',\n",
       " 'data/2020-12-09/Petr_Fedorov/data.csv',\n",
       " 'data/2020-12-09/Alexey_Smirnov/data.csv',\n",
       " 'data/2020-12-09/Anton_Petrov/data.csv',\n",
       " 'data/2020-12-09/Vasiliy_Ivanov/data.csv',\n",
       " 'data/2020-12-07/Petr_Smirnov/data.csv',\n",
       " 'data/2020-12-07/Anton_Ivanov/data.csv',\n",
       " 'data/2020-12-07/Rostislav_Fedorov/data.csv',\n",
       " 'data/2020-12-07/Alexey_Fedorov/data.csv',\n",
       " 'data/2020-12-07/Anton_Smirnov/data.csv',\n",
       " 'data/2020-12-07/Petr_Fedorov/data.csv',\n",
       " 'data/2020-12-07/Alexey_Smirnov/data.csv',\n",
       " 'data/2020-12-07/Vasiliy_Ivanov/data.csv',\n",
       " 'data/2020-12-07/Kirill_Fedorov/data.csv',\n",
       " 'data/2020-12-07/Alexey_Ivanov/data.csv',\n",
       " 'data/2020-12-05/Petr_Smirnov/data.csv',\n",
       " 'data/2020-12-05/Alexey_Fedorov/data.csv',\n",
       " 'data/2020-12-05/Petr_Ivanov/data.csv',\n",
       " 'data/2020-12-05/Alexey_Petrov/data.csv',\n",
       " 'data/2020-12-05/Kirill_Smirnov/data.csv',\n",
       " 'data/2020-12-05/Rostislav_Smirnov/data.csv',\n",
       " 'data/2020-12-03/Vasiliy_Petrov/data.csv',\n",
       " 'data/2020-12-03/Petr_Fedorov/data.csv',\n",
       " 'data/2020-12-03/Alexey_Smirnov/data.csv',\n",
       " 'data/2020-12-03/Anton_Petrov/data.csv',\n",
       " 'data/2020-12-03/Vasiliy_Ivanov/data.csv',\n",
       " 'data/2020-12-03/Kirill_Petrov/data.csv',\n",
       " 'data/2020-12-04/Petr_Smirnov/data.csv',\n",
       " 'data/2020-12-04/Rostislav_Fedorov/data.csv',\n",
       " 'data/2020-12-04/Rostislav_Ivanov/data.csv',\n",
       " 'data/2020-12-04/Petr_Ivanov/data.csv',\n",
       " 'data/2020-12-04/Petr_Fedorov/data.csv',\n",
       " 'data/2020-12-04/Alexey_Smirnov/data.csv',\n",
       " 'data/2020-12-04/Rostislav_Smirnov/data.csv',\n",
       " 'data/2020-12-04/Vasiliy_Ivanov/data.csv',\n",
       " 'data/2020-12-04/Kirill_Fedorov/data.csv']"
      ]
     },
     "execution_count": 103,
     "metadata": {},
     "output_type": "execute_result"
    }
   ],
   "source": [
    "root_path = 'data'\n",
    "data_files = []\n",
    "target_file = 'data.csv'\n",
    "tree = os.walk(root_path)\n",
    "for item in tree:\n",
    "    files = item[-1]\n",
    "    if len(files) > 0 and target_file in files:\n",
    "        path = os.path.join(item[0], targer_file)\n",
    "        data_files.append(path)\n",
    "data_files"
   ]
  },
  {
   "cell_type": "code",
   "execution_count": 104,
   "id": "d92632ca",
   "metadata": {},
   "outputs": [],
   "source": [
    "data_files_df = []\n",
    "\n",
    "for path in data_files:\n",
    "    df = pd.read_csv(path, index_col = 0)\n",
    "    date, name = path.split('/')[1:3]\n",
    "    df['date'] = date\n",
    "    df['name'] = name\n",
    "    data_files_df.append(df)\n",
    "data = pd.concat(data_files_df, ignore_index = True)"
   ]
  },
  {
   "cell_type": "code",
   "execution_count": 105,
   "id": "1bc57ec7",
   "metadata": {},
   "outputs": [
    {
     "data": {
      "text/html": [
       "<div>\n",
       "<style scoped>\n",
       "    .dataframe tbody tr th:only-of-type {\n",
       "        vertical-align: middle;\n",
       "    }\n",
       "\n",
       "    .dataframe tbody tr th {\n",
       "        vertical-align: top;\n",
       "    }\n",
       "\n",
       "    .dataframe thead th {\n",
       "        text-align: right;\n",
       "    }\n",
       "</style>\n",
       "<table border=\"1\" class=\"dataframe\">\n",
       "  <thead>\n",
       "    <tr style=\"text-align: right;\">\n",
       "      <th></th>\n",
       "      <th>product_id</th>\n",
       "      <th>quantity</th>\n",
       "      <th>date</th>\n",
       "      <th>name</th>\n",
       "    </tr>\n",
       "  </thead>\n",
       "  <tbody>\n",
       "    <tr>\n",
       "      <th>0</th>\n",
       "      <td>56</td>\n",
       "      <td>4</td>\n",
       "      <td>2020-12-06</td>\n",
       "      <td>Vasiliy_Fedorov</td>\n",
       "    </tr>\n",
       "    <tr>\n",
       "      <th>1</th>\n",
       "      <td>97</td>\n",
       "      <td>3</td>\n",
       "      <td>2020-12-06</td>\n",
       "      <td>Vasiliy_Fedorov</td>\n",
       "    </tr>\n",
       "    <tr>\n",
       "      <th>2</th>\n",
       "      <td>79</td>\n",
       "      <td>3</td>\n",
       "      <td>2020-12-06</td>\n",
       "      <td>Vasiliy_Fedorov</td>\n",
       "    </tr>\n",
       "    <tr>\n",
       "      <th>3</th>\n",
       "      <td>29</td>\n",
       "      <td>5</td>\n",
       "      <td>2020-12-06</td>\n",
       "      <td>Vasiliy_Fedorov</td>\n",
       "    </tr>\n",
       "    <tr>\n",
       "      <th>4</th>\n",
       "      <td>73</td>\n",
       "      <td>5</td>\n",
       "      <td>2020-12-08</td>\n",
       "      <td>Alexey_Fedorov</td>\n",
       "    </tr>\n",
       "    <tr>\n",
       "      <th>5</th>\n",
       "      <td>34</td>\n",
       "      <td>1</td>\n",
       "      <td>2020-12-08</td>\n",
       "      <td>Alexey_Fedorov</td>\n",
       "    </tr>\n",
       "    <tr>\n",
       "      <th>6</th>\n",
       "      <td>71</td>\n",
       "      <td>1</td>\n",
       "      <td>2020-12-08</td>\n",
       "      <td>Alexey_Fedorov</td>\n",
       "    </tr>\n",
       "    <tr>\n",
       "      <th>7</th>\n",
       "      <td>18</td>\n",
       "      <td>2</td>\n",
       "      <td>2020-12-08</td>\n",
       "      <td>Alexey_Fedorov</td>\n",
       "    </tr>\n",
       "    <tr>\n",
       "      <th>8</th>\n",
       "      <td>67</td>\n",
       "      <td>2</td>\n",
       "      <td>2020-12-08</td>\n",
       "      <td>Alexey_Fedorov</td>\n",
       "    </tr>\n",
       "    <tr>\n",
       "      <th>9</th>\n",
       "      <td>6</td>\n",
       "      <td>5</td>\n",
       "      <td>2020-12-08</td>\n",
       "      <td>Anton_Smirnov</td>\n",
       "    </tr>\n",
       "  </tbody>\n",
       "</table>\n",
       "</div>"
      ],
      "text/plain": [
       "   product_id  quantity        date             name\n",
       "0          56         4  2020-12-06  Vasiliy_Fedorov\n",
       "1          97         3  2020-12-06  Vasiliy_Fedorov\n",
       "2          79         3  2020-12-06  Vasiliy_Fedorov\n",
       "3          29         5  2020-12-06  Vasiliy_Fedorov\n",
       "4          73         5  2020-12-08   Alexey_Fedorov\n",
       "5          34         1  2020-12-08   Alexey_Fedorov\n",
       "6          71         1  2020-12-08   Alexey_Fedorov\n",
       "7          18         2  2020-12-08   Alexey_Fedorov\n",
       "8          67         2  2020-12-08   Alexey_Fedorov\n",
       "9           6         5  2020-12-08    Anton_Smirnov"
      ]
     },
     "execution_count": 105,
     "metadata": {},
     "output_type": "execute_result"
    }
   ],
   "source": [
    "data.head(10)"
   ]
  },
  {
   "cell_type": "markdown",
   "id": "a7688727",
   "metadata": {},
   "source": [
    "**Выясним, какой пользователь купил больше всего товаров.**"
   ]
  },
  {
   "cell_type": "code",
   "execution_count": 114,
   "id": "2805e366",
   "metadata": {},
   "outputs": [
    {
     "data": {
      "text/plain": [
       "52"
      ]
     },
     "execution_count": 114,
     "metadata": {},
     "output_type": "execute_result"
    }
   ],
   "source": [
    "quantity_sum = data.groupby('name').agg({'quantity': 'sum'})\n",
    "max_quantity = quantity_sum.values.max()\n",
    "max_quantity"
   ]
  },
  {
   "cell_type": "code",
   "execution_count": 118,
   "id": "1a83191a",
   "metadata": {},
   "outputs": [
    {
     "data": {
      "text/plain": [
       "['Alexey_Smirnov', 'Petr_Smirnov']"
      ]
     },
     "execution_count": 118,
     "metadata": {},
     "output_type": "execute_result"
    }
   ],
   "source": [
    "quantity_sum[quantity_sum['quantity'] == max_quantity].index.to_list()"
   ]
  },
  {
   "cell_type": "markdown",
   "id": "bc55598e",
   "metadata": {},
   "source": [
    "Ответ: `Alexey_Smirnov, Petr_Smirnov`"
   ]
  },
  {
   "cell_type": "markdown",
   "id": "b1280107",
   "metadata": {},
   "source": [
    "**Найдем топ-10 товаров по числу проданных единиц за всё время и постройте барплот (столбчатую диаграмму, sns.barplot), где:**\n",
    "\n",
    "* по оси x – идентификаторы товаров (product_id) \n",
    "* по оси y – суммарное число их покупок (сколько товаров с таким product_id было продано)"
   ]
  },
  {
   "cell_type": "code",
   "execution_count": 124,
   "id": "61e1b0f1",
   "metadata": {},
   "outputs": [
    {
     "data": {
      "text/html": [
       "<div>\n",
       "<style scoped>\n",
       "    .dataframe tbody tr th:only-of-type {\n",
       "        vertical-align: middle;\n",
       "    }\n",
       "\n",
       "    .dataframe tbody tr th {\n",
       "        vertical-align: top;\n",
       "    }\n",
       "\n",
       "    .dataframe thead th {\n",
       "        text-align: right;\n",
       "    }\n",
       "</style>\n",
       "<table border=\"1\" class=\"dataframe\">\n",
       "  <thead>\n",
       "    <tr style=\"text-align: right;\">\n",
       "      <th></th>\n",
       "      <th>product_id</th>\n",
       "      <th>quantity</th>\n",
       "    </tr>\n",
       "  </thead>\n",
       "  <tbody>\n",
       "    <tr>\n",
       "      <th>22</th>\n",
       "      <td>27</td>\n",
       "      <td>20</td>\n",
       "    </tr>\n",
       "    <tr>\n",
       "      <th>42</th>\n",
       "      <td>56</td>\n",
       "      <td>18</td>\n",
       "    </tr>\n",
       "    <tr>\n",
       "      <th>21</th>\n",
       "      <td>24</td>\n",
       "      <td>15</td>\n",
       "    </tr>\n",
       "    <tr>\n",
       "      <th>51</th>\n",
       "      <td>74</td>\n",
       "      <td>15</td>\n",
       "    </tr>\n",
       "    <tr>\n",
       "      <th>32</th>\n",
       "      <td>41</td>\n",
       "      <td>14</td>\n",
       "    </tr>\n",
       "    <tr>\n",
       "      <th>27</th>\n",
       "      <td>34</td>\n",
       "      <td>13</td>\n",
       "    </tr>\n",
       "    <tr>\n",
       "      <th>66</th>\n",
       "      <td>94</td>\n",
       "      <td>13</td>\n",
       "    </tr>\n",
       "    <tr>\n",
       "      <th>46</th>\n",
       "      <td>66</td>\n",
       "      <td>13</td>\n",
       "    </tr>\n",
       "    <tr>\n",
       "      <th>65</th>\n",
       "      <td>92</td>\n",
       "      <td>12</td>\n",
       "    </tr>\n",
       "    <tr>\n",
       "      <th>38</th>\n",
       "      <td>50</td>\n",
       "      <td>12</td>\n",
       "    </tr>\n",
       "  </tbody>\n",
       "</table>\n",
       "</div>"
      ],
      "text/plain": [
       "    product_id  quantity\n",
       "22          27        20\n",
       "42          56        18\n",
       "21          24        15\n",
       "51          74        15\n",
       "32          41        14\n",
       "27          34        13\n",
       "66          94        13\n",
       "46          66        13\n",
       "65          92        12\n",
       "38          50        12"
      ]
     },
     "execution_count": 124,
     "metadata": {},
     "output_type": "execute_result"
    }
   ],
   "source": [
    "quantity_of_products = data.groupby('product_id', as_index = False).agg({'quantity': 'sum'})\\\n",
    "    .sort_values('quantity', ascending = False).head(10)\n",
    "quantity_of_products"
   ]
  },
  {
   "cell_type": "code",
   "execution_count": 145,
   "id": "d54a2d01",
   "metadata": {},
   "outputs": [
    {
     "data": {
      "image/png": "[encoded data removed]",
      "text/plain": [
       "<Figure size 1200x500 with 1 Axes>"
      ]
     },
     "metadata": {},
     "output_type": "display_data"
    }
   ],
   "source": [
    "fig, ax = plt.subplots(figsize = (12,5))\n",
    "ax = sns.barplot(data = quantity_of_products, x = 'product_id', y = 'quantity',\\\n",
    "                 color = 'blue', alpha = 0.5, order=quantity_of_products.product_id[::-1])\n",
    "ax.bar_label(ax.containers[0])\n",
    "ax.set_title(\"Топ 10 покупаемых товаров\")\n",
    "sns.despine()"
   ]
  },
  {
   "cell_type": "markdown",
   "id": "29c31a52",
   "metadata": {},
   "source": [
    "**4. Посмотрим на продажи по дням! Для визуализации снова используйте барплот, только теперь по оси x будут дни, по которым у нас есть данные (date)**\n",
    "\n",
    "* **Максимальное число товаров было продано 4 декабря**\n",
    "* **8 и 9 декабря было продано примерно одинаковое число товаров**\n",
    "* **4 декабря было куплено почти в два раза больше товаров, чем в предыдущий день**\n",
    "* **Меньше всего товаров было приобретено 6 декабря**"
   ]
  },
  {
   "cell_type": "code",
   "execution_count": 149,
   "id": "93b1c123",
   "metadata": {},
   "outputs": [
    {
     "data": {
      "text/html": [
       "<div>\n",
       "<style scoped>\n",
       "    .dataframe tbody tr th:only-of-type {\n",
       "        vertical-align: middle;\n",
       "    }\n",
       "\n",
       "    .dataframe tbody tr th {\n",
       "        vertical-align: top;\n",
       "    }\n",
       "\n",
       "    .dataframe thead th {\n",
       "        text-align: right;\n",
       "    }\n",
       "</style>\n",
       "<table border=\"1\" class=\"dataframe\">\n",
       "  <thead>\n",
       "    <tr style=\"text-align: right;\">\n",
       "      <th></th>\n",
       "      <th>date</th>\n",
       "      <th>quantity</th>\n",
       "    </tr>\n",
       "  </thead>\n",
       "  <tbody>\n",
       "    <tr>\n",
       "      <th>0</th>\n",
       "      <td>2020-12-03</td>\n",
       "      <td>60</td>\n",
       "    </tr>\n",
       "    <tr>\n",
       "      <th>1</th>\n",
       "      <td>2020-12-04</td>\n",
       "      <td>113</td>\n",
       "    </tr>\n",
       "    <tr>\n",
       "      <th>2</th>\n",
       "      <td>2020-12-05</td>\n",
       "      <td>61</td>\n",
       "    </tr>\n",
       "    <tr>\n",
       "      <th>3</th>\n",
       "      <td>2020-12-06</td>\n",
       "      <td>15</td>\n",
       "    </tr>\n",
       "    <tr>\n",
       "      <th>4</th>\n",
       "      <td>2020-12-07</td>\n",
       "      <td>94</td>\n",
       "    </tr>\n",
       "    <tr>\n",
       "      <th>5</th>\n",
       "      <td>2020-12-08</td>\n",
       "      <td>68</td>\n",
       "    </tr>\n",
       "    <tr>\n",
       "      <th>6</th>\n",
       "      <td>2020-12-09</td>\n",
       "      <td>69</td>\n",
       "    </tr>\n",
       "  </tbody>\n",
       "</table>\n",
       "</div>"
      ],
      "text/plain": [
       "         date  quantity\n",
       "0  2020-12-03        60\n",
       "1  2020-12-04       113\n",
       "2  2020-12-05        61\n",
       "3  2020-12-06        15\n",
       "4  2020-12-07        94\n",
       "5  2020-12-08        68\n",
       "6  2020-12-09        69"
      ]
     },
     "execution_count": 149,
     "metadata": {},
     "output_type": "execute_result"
    }
   ],
   "source": [
    "quantity_by_date = data.groupby('date', as_index = False).agg({'quantity':'sum'})\n"
   ]
  },
  {
   "cell_type": "code",
   "execution_count": 157,
   "id": "a4de5368",
   "metadata": {},
   "outputs": [
    {
     "data": {
      "image/png": "[encoded data removed]",
      "text/plain": [
       "<Figure size 1200x500 with 1 Axes>"
      ]
     },
     "metadata": {},
     "output_type": "display_data"
    }
   ],
   "source": [
    "fig, ax = plt.subplots(figsize = (12, 5))\n",
    "ax = sns.barplot(data = quantity_by_date, x = 'date', y = 'quantity', color = 'green', \\\n",
    "                 alpha = 0.5)\n",
    "ax.bar_label(ax.containers[0])\n",
    "sns.despine()"
   ]
  },
  {
   "cell_type": "markdown",
   "id": "f5df7a15",
   "metadata": {},
   "source": [
    "**Сколько пользователей приобрели какой-либо товар повторно (более 1 раза)? Повтором будем считать покупку товара с одинаковым product_id, совершенную в разные дни.**"
   ]
  },
  {
   "cell_type": "code",
   "execution_count": 174,
   "id": "9242e5b2",
   "metadata": {},
   "outputs": [
    {
     "data": {
      "text/plain": [
       "product_id  name             \n",
       "0           Vasiliy_Ivanov       1\n",
       "1           Alexey_Smirnov       1\n",
       "3           Kirill_Fedorov       1\n",
       "            Petr_Smirnov         1\n",
       "4           Alexey_Smirnov       1\n",
       "                                ..\n",
       "95          Vasiliy_Ivanov       1\n",
       "96          Petr_Smirnov         1\n",
       "97          Vasiliy_Fedorov      1\n",
       "99          Alexey_Fedorov       1\n",
       "            Rostislav_Smirnov    1\n",
       "Name: date, Length: 158, dtype: int64"
      ]
     },
     "execution_count": 174,
     "metadata": {},
     "output_type": "execute_result"
    }
   ],
   "source": [
    "same_product = data.groupby(['product_id', 'name']).date.nunique()\n",
    "same_product"
   ]
  },
  {
   "cell_type": "code",
   "execution_count": 179,
   "id": "ead59db3",
   "metadata": {},
   "outputs": [
    {
     "data": {
      "text/plain": [
       "product_id  name        \n",
       "15          Anton_Ivanov    2\n",
       "94          Petr_Fedorov    2\n",
       "Name: date, dtype: int64"
      ]
     },
     "execution_count": 179,
     "metadata": {},
     "output_type": "execute_result"
    }
   ],
   "source": [
    "same_product.loc[same_product > 1]"
   ]
  }
 ],
 "metadata": {
  "kernelspec": {
   "display_name": "Python 3 (ipykernel)",
   "language": "python",
   "name": "python3"
  },
  "language_info": {
   "codemirror_mode": {
    "name": "ipython",
    "version": 3
   },
   "file_extension": ".py",
   "mimetype": "text/x-python",
   "name": "python",
   "nbconvert_exporter": "python",
   "pygments_lexer": "ipython3",
   "version": "3.11.4"
  }
 },
 "nbformat": 4,
 "nbformat_minor": 5
}
